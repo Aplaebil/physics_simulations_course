{
 "cells": [
  {
   "cell_type": "code",
   "execution_count": 1,
   "id": "4b167262-42bf-40a9-bbf1-03220780c843",
   "metadata": {},
   "outputs": [],
   "source": [
    "import numpy as np"
   ]
  },
  {
   "cell_type": "code",
   "execution_count": 2,
   "id": "037dad39-5410-4a43-9678-aa7ffb134190",
   "metadata": {},
   "outputs": [],
   "source": [
    "data = np.load(\"../thermodynamics/tests/mfp_test1.npz\")"
   ]
  },
  {
   "cell_type": "code",
   "execution_count": 3,
   "id": "29a3df20-38f6-4499-8430-e94806770079",
   "metadata": {},
   "outputs": [
    {
     "data": {
      "text/plain": [
       "NpzFile '../thermodynamics/tests/mfp_test1.npz' with keys: pos, vel, radii, masses, collisions"
      ]
     },
     "execution_count": 3,
     "metadata": {},
     "output_type": "execute_result"
    }
   ],
   "source": [
    "data"
   ]
  },
  {
   "cell_type": "code",
   "execution_count": 63,
   "id": "f489ab51-3e0b-436f-8d6a-ebc69f083b2f",
   "metadata": {},
   "outputs": [],
   "source": [
    "eq_idx = 500"
   ]
  },
  {
   "cell_type": "code",
   "execution_count": 64,
   "id": "08e87fac-70ce-477e-b351-b601fb4425d4",
   "metadata": {},
   "outputs": [],
   "source": [
    "pos_eq = data[\"pos\"][eq_idx:]"
   ]
  },
  {
   "cell_type": "code",
   "execution_count": 65,
   "id": "09253c49-3c1c-467b-a70c-67ee6fdff529",
   "metadata": {},
   "outputs": [],
   "source": [
    "collisions = data[\"collisions\"][eq_idx:].T"
   ]
  },
  {
   "cell_type": "code",
   "execution_count": 66,
   "id": "3b37959e-6ef6-4bc9-8132-b1c0b060dc6a",
   "metadata": {},
   "outputs": [
    {
     "name": "stdout",
     "output_type": "stream",
     "text": [
      "4.007269243789618\n"
     ]
    }
   ],
   "source": [
    "free_paths = []\n",
    "for p, row in enumerate(collisions):\n",
    "    indices = np.where(row == 1)\n",
    "    for id1, id2 in zip(indices[0], indices[0][1:]):\n",
    "        free_paths.append(np.linalg.norm(pos_eq[id2, p] - pos_eq[id1, p]))\n",
    "free_paths = np.array(free_paths)\n",
    "mean_free_path = np.mean(free_paths)\n",
    "print(mean_free_path)"
   ]
  },
  {
   "cell_type": "code",
   "execution_count": 67,
   "id": "0a034615-6c3f-4404-bf79-c3b546b1dde2",
   "metadata": {},
   "outputs": [
    {
     "name": "stdout",
     "output_type": "stream",
     "text": [
      "27000000 343 10.0\n",
      "177.17595143033427\n"
     ]
    }
   ],
   "source": [
    "V = 300**3\n",
    "N = data[\"pos\"].shape[1]\n",
    "d = data[\"radii\"][0]\n",
    "mean_free_path_calc = V / (np.sqrt(2)*N*np.pi*d**2)\n",
    "print(V, N, d)\n",
    "print(mean_free_path_calc)"
   ]
  },
  {
   "cell_type": "code",
   "execution_count": null,
   "id": "44357af6-1516-4d18-96e4-1e29b17d1b7a",
   "metadata": {},
   "outputs": [],
   "source": []
  }
 ],
 "metadata": {
  "kernelspec": {
   "display_name": "Python 3 (ipykernel)",
   "language": "python",
   "name": "python3"
  },
  "language_info": {
   "codemirror_mode": {
    "name": "ipython",
    "version": 3
   },
   "file_extension": ".py",
   "mimetype": "text/x-python",
   "name": "python",
   "nbconvert_exporter": "python",
   "pygments_lexer": "ipython3",
   "version": "3.12.6"
  }
 },
 "nbformat": 4,
 "nbformat_minor": 5
}
