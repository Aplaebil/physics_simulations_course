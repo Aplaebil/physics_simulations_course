{
 "cells": [
  {
   "cell_type": "markdown",
   "id": "c8b65256-3bfb-45c5-bbcb-5dc62ef7ff16",
   "metadata": {},
   "source": [
    "# Basic introduction to python for CS students"
   ]
  },
  {
   "cell_type": "markdown",
   "id": "2bfeac1f-bcec-4bd0-92b9-8fa0b3be260a",
   "metadata": {},
   "source": [
    "## Variables"
   ]
  },
  {
   "cell_type": "markdown",
   "id": "c9cf36a3-00c3-4bff-bc02-d2468b57fae9",
   "metadata": {},
   "source": [
    "### General variables"
   ]
  },
  {
   "cell_type": "code",
   "execution_count": 6,
   "id": "55f3f8c5-74ae-4995-bf9c-db3630aed520",
   "metadata": {},
   "outputs": [],
   "source": [
    "n = 3\n",
    "x = 2.5 + 0.1\n",
    "z = 1 + 2j\n",
    "s = \"some text bla bla bla\"\n",
    "b = True and False"
   ]
  },
  {
   "cell_type": "code",
   "execution_count": 7,
   "id": "938ced72-0fa5-4247-861d-df1e6fc3f021",
   "metadata": {},
   "outputs": [
    {
     "name": "stdout",
     "output_type": "stream",
     "text": [
      "3 <class 'int'>\n",
      "2.6 <class 'float'>\n",
      "(1+2j) <class 'complex'>\n",
      "some text bla bla bla <class 'str'>\n",
      "False <class 'bool'>\n"
     ]
    }
   ],
   "source": [
    "print(n, type(n))\n",
    "print(x, type(x))\n",
    "print(z, type(z))\n",
    "print(s, type(s))\n",
    "print(b, type(b))"
   ]
  },
  {
   "cell_type": "code",
   "execution_count": 8,
   "id": "34c3b416-09e7-4deb-97a9-78ab139c709c",
   "metadata": {},
   "outputs": [
    {
     "name": "stdout",
     "output_type": "stream",
     "text": [
      "5.6 <class 'float'>\n"
     ]
    }
   ],
   "source": [
    "print(n+x, type(n+x))"
   ]
  },
  {
   "cell_type": "code",
   "execution_count": 9,
   "id": "edad3073-4280-43c4-b460-5d214009efb1",
   "metadata": {},
   "outputs": [
    {
     "ename": "TypeError",
     "evalue": "can only concatenate str (not \"int\") to str",
     "output_type": "error",
     "traceback": [
      "\u001b[0;31m---------------------------------------------------------------------------\u001b[0m",
      "\u001b[0;31mTypeError\u001b[0m                                 Traceback (most recent call last)",
      "Cell \u001b[0;32mIn[9], line 1\u001b[0m\n\u001b[0;32m----> 1\u001b[0m \u001b[38;5;28mprint\u001b[39m(\u001b[43ms\u001b[49m\u001b[38;5;241;43m+\u001b[39;49m\u001b[43mn\u001b[49m)\n",
      "\u001b[0;31mTypeError\u001b[0m: can only concatenate str (not \"int\") to str"
     ]
    }
   ],
   "source": [
    "print(s+n)"
   ]
  },
  {
   "cell_type": "code",
   "execution_count": 10,
   "id": "447ee215-53aa-469d-a559-f0034fb8437c",
   "metadata": {},
   "outputs": [
    {
     "name": "stdout",
     "output_type": "stream",
     "text": [
      "some text bla bla bla3\n"
     ]
    }
   ],
   "source": [
    "print(s + str(n))"
   ]
  },
  {
   "cell_type": "markdown",
   "id": "8a45f13f-600d-417c-85a1-ffe7e39c13fb",
   "metadata": {},
   "source": [
    "### Strings"
   ]
  },
  {
   "cell_type": "code",
   "execution_count": 11,
   "id": "b7419ac5-615a-4528-a6da-95b2f4ed6443",
   "metadata": {},
   "outputs": [
    {
     "name": "stdout",
     "output_type": "stream",
     "text": [
      "I'm a text, and I can use single quotes.\n",
      "Double quotes, i.e. \", must be escaped.\n",
      "I'm also a text! Here's a quote: \"bla bla bla\".\n"
     ]
    }
   ],
   "source": [
    "txt1 = \"I'm a text, and I can use single quotes.\"\n",
    "print(txt1)\n",
    "\n",
    "txt2 = \"Double quotes, i.e. \\\", must be escaped.\"\n",
    "print(txt2)\n",
    "\n",
    "txt3 = 'I\\'m also a text! Here\\'s a quote: \"bla bla bla\".'\n",
    "print(txt3)"
   ]
  },
  {
   "cell_type": "code",
   "execution_count": 14,
   "id": "37962fd9-24ab-4340-affb-d82e52b0558d",
   "metadata": {},
   "outputs": [
    {
     "name": "stdout",
     "output_type": "stream",
     "text": [
      "I'm a string with several lines.\n",
      "It's easy to use me :)\n",
      "Have a nice day!\n"
     ]
    }
   ],
   "source": [
    "mltxt1 = \"\"\"I'm a string with several lines.\n",
    "It's easy to use me :)\n",
    "Have a nice day!\"\"\"\n",
    "print(mltxt1)"
   ]
  },
  {
   "cell_type": "code",
   "execution_count": 15,
   "id": "f290d1d1-bcec-4aee-8c54-38ae2fbe6085",
   "metadata": {},
   "outputs": [
    {
     "name": "stdout",
     "output_type": "stream",
     "text": [
      "I'm a another multi-line string.\n",
      "I can use single quotes because I only exist between two pairs of three\n",
      "consequtive quotes.\n"
     ]
    }
   ],
   "source": [
    "mltxt2 = '''I'm a another multi-line string.\n",
    "I can use single quotes because I only exist between two pairs of three\n",
    "consequtive quotes.'''\n",
    "print(mltxt2)"
   ]
  },
  {
   "cell_type": "code",
   "execution_count": 16,
   "id": "1957a2ed-2abe-4bdf-909f-4153109f8c1f",
   "metadata": {},
   "outputs": [
    {
     "name": "stdout",
     "output_type": "stream",
     "text": [
      "my var is a= foo and also b= 3 .\n"
     ]
    }
   ],
   "source": [
    "a = 'foo'\n",
    "b = 3\n",
    "print('my var is a=', a, 'and also b=', b, '.')\n",
    "# print('my var is a=' + a + 'and also b=' + b + '.')\n",
    "# print('my var is a=' + a + ' and also b=' + str(b) + '.')\n",
    "# print(f'my var is {a}, and also b={b}.')\n",
    "# print(f\"\"\"Multiline strings can also be formatted.\n",
    "# Here for example a = '{a}' and b = {b}.\n",
    "# Hooray!\n",
    "# \"\"\")"
   ]
  },
  {
   "cell_type": "code",
   "execution_count": null,
   "id": "9ac538f9-9bd0-409c-ac62-868d03a53193",
   "metadata": {},
   "outputs": [],
   "source": []
  }
 ],
 "metadata": {
  "kernelspec": {
   "display_name": "Python 3 (ipykernel)",
   "language": "python",
   "name": "python3"
  },
  "language_info": {
   "codemirror_mode": {
    "name": "ipython",
    "version": 3
   },
   "file_extension": ".py",
   "mimetype": "text/x-python",
   "name": "python",
   "nbconvert_exporter": "python",
   "pygments_lexer": "ipython3",
   "version": "3.12.6"
  }
 },
 "nbformat": 4,
 "nbformat_minor": 5
}
