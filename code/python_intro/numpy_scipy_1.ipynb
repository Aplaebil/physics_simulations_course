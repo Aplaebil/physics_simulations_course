{
 "cells": [
  {
   "cell_type": "markdown",
   "id": "1f145523-01c8-4450-a0af-b01f5dff7750",
   "metadata": {},
   "source": [
    "# Quick introduction to NumPy and SciPy"
   ]
  },
  {
   "cell_type": "markdown",
   "id": "1e1f59f7-2bfd-40bb-9441-b34e0e0068e8",
   "metadata": {},
   "source": [
    "## NumPy"
   ]
  },
  {
   "cell_type": "code",
   "execution_count": 1,
   "id": "14090011-a87a-40ce-b9bd-1d3834e8af63",
   "metadata": {},
   "outputs": [],
   "source": [
    "import numpy as np"
   ]
  },
  {
   "cell_type": "code",
   "execution_count": 64,
   "id": "77745c6c-059e-4c72-9518-b3e0b98f20a2",
   "metadata": {},
   "outputs": [],
   "source": [
    "def print_ndarray_info(arr, name):\n",
    "    print(f\"{name} = {np.array_str(arr, precision=2, suppress_small=True)}, shape={arr.shape}, type={arr.dtype}\")"
   ]
  },
  {
   "cell_type": "markdown",
   "id": "851785c6-4b9c-4734-b23a-cdb10ee297e8",
   "metadata": {},
   "source": [
    "### 1D arrays"
   ]
  },
  {
   "cell_type": "code",
   "execution_count": 65,
   "id": "ea463eea-4568-4d7e-9ca1-e7c29c52dcc9",
   "metadata": {},
   "outputs": [
    {
     "name": "stdout",
     "output_type": "stream",
     "text": [
      "v1 = [ 1  2 -5  0  7], shape=(5,), type=int64\n"
     ]
    }
   ],
   "source": [
    "v1 = np.array([1, 2, -5, 0, 7])\n",
    "print_ndarray_info(v1, \"v1\")"
   ]
  },
  {
   "cell_type": "code",
   "execution_count": 66,
   "id": "daac3a3d-491b-461b-9519-4c1041118b5a",
   "metadata": {},
   "outputs": [
    {
     "name": "stdout",
     "output_type": "stream",
     "text": [
      "v2 = [ 2.5   3.    0.   -2.    1.25], shape=(5,), type=float64\n"
     ]
    }
   ],
   "source": [
    "v2 = np.array([2.5, 3.0, 0, -2, 1.25])\n",
    "print_ndarray_info(v2, \"v2\")"
   ]
  },
  {
   "cell_type": "code",
   "execution_count": 67,
   "id": "c1e8145a-2460-4fd8-9f0c-f39f7d4ea763",
   "metadata": {},
   "outputs": [
    {
     "name": "stdout",
     "output_type": "stream",
     "text": [
      "v3 = [ 3.5   5.   -5.   -2.    8.25], shape=(5,), type=float64\n"
     ]
    }
   ],
   "source": [
    "v3 = v1 + v2\n",
    "print_ndarray_info(v3, \"v3\")"
   ]
  },
  {
   "cell_type": "code",
   "execution_count": 68,
   "id": "6fa29400-cbae-44ee-932f-43f20316e440",
   "metadata": {},
   "outputs": [
    {
     "name": "stdout",
     "output_type": "stream",
     "text": [
      "v4 = [ 2.5   6.   -0.   -0.    8.75], shape=(5,), type=float64\n"
     ]
    }
   ],
   "source": [
    "v4 = v1 * v2\n",
    "print_ndarray_info(v4, \"v4\")"
   ]
  },
  {
   "cell_type": "code",
   "execution_count": 69,
   "id": "659171fd-2163-41ef-b337-b5c8c2bd7a71",
   "metadata": {},
   "outputs": [
    {
     "ename": "ValueError",
     "evalue": "operands could not be broadcast together with shapes (5,) (3,) ",
     "output_type": "error",
     "traceback": [
      "\u001b[0;31m---------------------------------------------------------------------------\u001b[0m",
      "\u001b[0;31mValueError\u001b[0m                                Traceback (most recent call last)",
      "Cell \u001b[0;32mIn[69], line 2\u001b[0m\n\u001b[1;32m      1\u001b[0m v5 \u001b[38;5;241m=\u001b[39m np\u001b[38;5;241m.\u001b[39marray([\u001b[38;5;241m1\u001b[39m, \u001b[38;5;241m2\u001b[39m, \u001b[38;5;241m3\u001b[39m])\n\u001b[0;32m----> 2\u001b[0m v6 \u001b[38;5;241m=\u001b[39m \u001b[43mv2\u001b[49m\u001b[43m \u001b[49m\u001b[38;5;241;43m+\u001b[39;49m\u001b[43m \u001b[49m\u001b[43mv5\u001b[49m\n",
      "\u001b[0;31mValueError\u001b[0m: operands could not be broadcast together with shapes (5,) (3,) "
     ]
    }
   ],
   "source": [
    "v5 = np.array([1, 2, 3])\n",
    "v6 = v2 + v5"
   ]
  },
  {
   "cell_type": "code",
   "execution_count": 70,
   "id": "e1dc8462-cea4-4060-b7ca-a4ffb8bd9057",
   "metadata": {},
   "outputs": [
    {
     "name": "stdout",
     "output_type": "stream",
     "text": [
      "v5+v6 = [3.5 8.  3. ], shape=(3,), type=float64\n"
     ]
    }
   ],
   "source": [
    "v6 = v4[:3]\n",
    "print_ndarray_info(v5+v6, \"v5+v6\")"
   ]
  },
  {
   "cell_type": "code",
   "execution_count": 71,
   "id": "f999c197-35e7-48b6-a2b5-b8735e824fdc",
   "metadata": {},
   "outputs": [
    {
     "name": "stdout",
     "output_type": "stream",
     "text": [
      "v5⋅v6 = 14.5\n"
     ]
    }
   ],
   "source": [
    "a = np.dot(v5, v6)\n",
    "print(f\"v5⋅v6 = {a}\")"
   ]
  },
  {
   "cell_type": "markdown",
   "id": "dff93711-0442-42f4-9368-f21f30b37a8e",
   "metadata": {},
   "source": [
    "### 2D arrays"
   ]
  },
  {
   "cell_type": "code",
   "execution_count": 72,
   "id": "a7c44449-229e-4c33-a299-e6a9157328d6",
   "metadata": {},
   "outputs": [
    {
     "name": "stdout",
     "output_type": "stream",
     "text": [
      "M1 = [[ 1.  -1.   0. ]\n",
      " [ 0.5  0.   2. ]\n",
      " [-2.   3.  -0.5]], shape=(3, 3), type=float64\n"
     ]
    }
   ],
   "source": [
    "M1 = np.array([\n",
    "    [1, -1, 0],\n",
    "    [0.5, 0, 2],\n",
    "    [-2, 3, -0.5]\n",
    "])\n",
    "print_ndarray_info(M1, \"M1\")"
   ]
  },
  {
   "cell_type": "code",
   "execution_count": 73,
   "id": "d3ec1e67-209e-4d29-8908-38cf2553b652",
   "metadata": {},
   "outputs": [
    {
     "name": "stdout",
     "output_type": "stream",
     "text": [
      "1.0\n",
      "3.0\n"
     ]
    }
   ],
   "source": [
    "print(M1[0,0])\n",
    "print(M1[2,1])"
   ]
  },
  {
   "cell_type": "code",
   "execution_count": 74,
   "id": "7ab9fd95-b23c-483a-bd48-bfbfc374d4cc",
   "metadata": {},
   "outputs": [
    {
     "name": "stdout",
     "output_type": "stream",
     "text": [
      "[ 1. -1.  0.]\n"
     ]
    }
   ],
   "source": [
    "# first row\n",
    "print(M1[0])"
   ]
  },
  {
   "cell_type": "code",
   "execution_count": 75,
   "id": "9d917d3c-1aae-4df2-9152-e43fd5a2b182",
   "metadata": {},
   "outputs": [
    {
     "name": "stdout",
     "output_type": "stream",
     "text": [
      "[ 1.   0.5 -2. ]\n"
     ]
    }
   ],
   "source": [
    "# first column\n",
    "print(M1[:, 0])"
   ]
  },
  {
   "cell_type": "code",
   "execution_count": 76,
   "id": "0295cb7e-8db5-40b7-a0b8-5c0cab80c865",
   "metadata": {},
   "outputs": [
    {
     "name": "stdout",
     "output_type": "stream",
     "text": [
      "[[ 1.   0.5 -2. ]\n",
      " [-1.   0.   3. ]\n",
      " [ 0.   2.  -0.5]]\n"
     ]
    }
   ],
   "source": [
    "# transpose\n",
    "print(M1.T)"
   ]
  },
  {
   "cell_type": "code",
   "execution_count": 77,
   "id": "26c9fc22-c4c4-441b-b29b-c35466214950",
   "metadata": {},
   "outputs": [
    {
     "name": "stdout",
     "output_type": "stream",
     "text": [
      "[ 1.   0.5 -2. ] [ 1.   0.5 -2. ]\n"
     ]
    }
   ],
   "source": [
    "# first row of M1.T == first col of M1\n",
    "print(M1.T[0], M1[:, 0])"
   ]
  },
  {
   "cell_type": "code",
   "execution_count": 78,
   "id": "68aa1499-af45-491c-97c8-e925ef4a3ed9",
   "metadata": {},
   "outputs": [
    {
     "name": "stdout",
     "output_type": "stream",
     "text": [
      "[[ 1.  -1. ]\n",
      " [ 0.5  0. ]]\n"
     ]
    }
   ],
   "source": [
    "# upper-left block of M1\n",
    "print(M1[:2, :2])"
   ]
  },
  {
   "cell_type": "code",
   "execution_count": 79,
   "id": "de5eb043-3e96-461a-adc8-13a2ea08f609",
   "metadata": {},
   "outputs": [
    {
     "name": "stdout",
     "output_type": "stream",
     "text": [
      "v7=M1⋅v5 = [-1.   6.5  2.5], shape=(3,), type=float64\n"
     ]
    }
   ],
   "source": [
    "# Matrix-vector product (it's just another matrix-matrix product...)\n",
    "v7 = np.dot(M1, v5)\n",
    "print_ndarray_info(v7, \"v7=M1⋅v5\")"
   ]
  },
  {
   "cell_type": "code",
   "execution_count": 80,
   "id": "fccfdcdc-7dcf-495f-8813-8388cf518bc5",
   "metadata": {},
   "outputs": [
    {
     "data": {
      "text/plain": [
       "array([-4. ,  8. ,  2.5])"
      ]
     },
     "execution_count": 80,
     "metadata": {},
     "output_type": "execute_result"
    }
   ],
   "source": [
    "# The order of multiplication matters!\n",
    "np.dot(v5, M1)\n",
    "# (in this case numpy considers v5 as a row vector)"
   ]
  },
  {
   "cell_type": "code",
   "execution_count": 81,
   "id": "aec5059c-ad83-4f8e-81e2-57c848bad379",
   "metadata": {},
   "outputs": [
    {
     "name": "stdout",
     "output_type": "stream",
     "text": [
      "M4=M2⋅M3 = [[ 0  2]\n",
      " [ 1 -1]], shape=(2, 2), type=int64\n",
      "M5=M3⋅M2 = [[ 2  4]\n",
      " [-1 -3]], shape=(2, 2), type=int64\n"
     ]
    }
   ],
   "source": [
    "# Matrix-Matrix product (remember: it's not commutative!)\n",
    "M2 = np.array([[1, 2], [0, -1]])\n",
    "M3 = np.array([[2, 0], [-1, 1]])\n",
    "M4 = np.dot(M2, M3)\n",
    "M5 = np.dot(M3, M2)\n",
    "print_ndarray_info(M4, \"M4=M2⋅M3\")\n",
    "print_ndarray_info(M5, \"M5=M3⋅M2\")"
   ]
  },
  {
   "cell_type": "code",
   "execution_count": null,
   "id": "908df909-c3c3-47e8-b26f-61531cf392e2",
   "metadata": {},
   "outputs": [],
   "source": []
  }
 ],
 "metadata": {
  "kernelspec": {
   "display_name": "Python 3 (ipykernel)",
   "language": "python",
   "name": "python3"
  },
  "language_info": {
   "codemirror_mode": {
    "name": "ipython",
    "version": 3
   },
   "file_extension": ".py",
   "mimetype": "text/x-python",
   "name": "python",
   "nbconvert_exporter": "python",
   "pygments_lexer": "ipython3",
   "version": "3.12.4"
  }
 },
 "nbformat": 4,
 "nbformat_minor": 5
}
