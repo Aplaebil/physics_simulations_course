{
 "cells": [
  {
   "cell_type": "markdown",
   "id": "1f145523-01c8-4450-a0af-b01f5dff7750",
   "metadata": {},
   "source": [
    "# Quick introduction to NumPy and SciPy"
   ]
  },
  {
   "cell_type": "markdown",
   "id": "1e1f59f7-2bfd-40bb-9441-b34e0e0068e8",
   "metadata": {},
   "source": [
    "## NumPy"
   ]
  },
  {
   "cell_type": "code",
   "execution_count": 1,
   "id": "14090011-a87a-40ce-b9bd-1d3834e8af63",
   "metadata": {},
   "outputs": [],
   "source": [
    "import numpy as np"
   ]
  },
  {
   "cell_type": "code",
   "execution_count": 64,
   "id": "77745c6c-059e-4c72-9518-b3e0b98f20a2",
   "metadata": {},
   "outputs": [],
   "source": [
    "def print_ndarray_info(arr, name):\n",
    "    print(f\"{name} = {np.array_str(arr, precision=2, suppress_small=True)}, shape={arr.shape}, type={arr.dtype}\")"
   ]
  },
  {
   "cell_type": "markdown",
   "id": "851785c6-4b9c-4734-b23a-cdb10ee297e8",
   "metadata": {},
   "source": [
    "### 1D arrays"
   ]
  },
  {
   "cell_type": "code",
   "execution_count": 65,
   "id": "ea463eea-4568-4d7e-9ca1-e7c29c52dcc9",
   "metadata": {},
   "outputs": [
    {
     "name": "stdout",
     "output_type": "stream",
     "text": [
      "v1 = [ 1  2 -5  0  7], shape=(5,), type=int64\n"
     ]
    }
   ],
   "source": [
    "v1 = np.array([1, 2, -5, 0, 7])\n",
    "print_ndarray_info(v1, \"v1\")"
   ]
  },
  {
   "cell_type": "code",
   "execution_count": 66,
   "id": "daac3a3d-491b-461b-9519-4c1041118b5a",
   "metadata": {},
   "outputs": [
    {
     "name": "stdout",
     "output_type": "stream",
     "text": [
      "v2 = [ 2.5   3.    0.   -2.    1.25], shape=(5,), type=float64\n"
     ]
    }
   ],
   "source": [
    "v2 = np.array([2.5, 3.0, 0, -2, 1.25])\n",
    "print_ndarray_info(v2, \"v2\")"
   ]
  },
  {
   "cell_type": "code",
   "execution_count": 67,
   "id": "c1e8145a-2460-4fd8-9f0c-f39f7d4ea763",
   "metadata": {},
   "outputs": [
    {
     "name": "stdout",
     "output_type": "stream",
     "text": [
      "v3 = [ 3.5   5.   -5.   -2.    8.25], shape=(5,), type=float64\n"
     ]
    }
   ],
   "source": [
    "v3 = v1 + v2\n",
    "print_ndarray_info(v3, \"v3\")"
   ]
  },
  {
   "cell_type": "code",
   "execution_count": 68,
   "id": "6fa29400-cbae-44ee-932f-43f20316e440",
   "metadata": {},
   "outputs": [
    {
     "name": "stdout",
     "output_type": "stream",
     "text": [
      "v4 = [ 2.5   6.   -0.   -0.    8.75], shape=(5,), type=float64\n"
     ]
    }
   ],
   "source": [
    "v4 = v1 * v2\n",
    "print_ndarray_info(v4, \"v4\")"
   ]
  },
  {
   "cell_type": "code",
   "execution_count": 69,
   "id": "659171fd-2163-41ef-b337-b5c8c2bd7a71",
   "metadata": {},
   "outputs": [
    {
     "ename": "ValueError",
     "evalue": "operands could not be broadcast together with shapes (5,) (3,) ",
     "output_type": "error",
     "traceback": [
      "\u001b[0;31m---------------------------------------------------------------------------\u001b[0m",
      "\u001b[0;31mValueError\u001b[0m                                Traceback (most recent call last)",
      "Cell \u001b[0;32mIn[69], line 2\u001b[0m\n\u001b[1;32m      1\u001b[0m v5 \u001b[38;5;241m=\u001b[39m np\u001b[38;5;241m.\u001b[39marray([\u001b[38;5;241m1\u001b[39m, \u001b[38;5;241m2\u001b[39m, \u001b[38;5;241m3\u001b[39m])\n\u001b[0;32m----> 2\u001b[0m v6 \u001b[38;5;241m=\u001b[39m \u001b[43mv2\u001b[49m\u001b[43m \u001b[49m\u001b[38;5;241;43m+\u001b[39;49m\u001b[43m \u001b[49m\u001b[43mv5\u001b[49m\n",
      "\u001b[0;31mValueError\u001b[0m: operands could not be broadcast together with shapes (5,) (3,) "
     ]
    }
   ],
   "source": [
    "v5 = np.array([1, 2, 3])\n",
    "v6 = v2 + v5"
   ]
  },
  {
   "cell_type": "code",
   "execution_count": 70,
   "id": "e1dc8462-cea4-4060-b7ca-a4ffb8bd9057",
   "metadata": {},
   "outputs": [
    {
     "name": "stdout",
     "output_type": "stream",
     "text": [
      "v5+v6 = [3.5 8.  3. ], shape=(3,), type=float64\n"
     ]
    }
   ],
   "source": [
    "v6 = v4[:3]\n",
    "print_ndarray_info(v5+v6, \"v5+v6\")"
   ]
  },
  {
   "cell_type": "code",
   "execution_count": 71,
   "id": "f999c197-35e7-48b6-a2b5-b8735e824fdc",
   "metadata": {},
   "outputs": [
    {
     "name": "stdout",
     "output_type": "stream",
     "text": [
      "v5⋅v6 = 14.5\n"
     ]
    }
   ],
   "source": [
    "a = np.dot(v5, v6)\n",
    "print(f\"v5⋅v6 = {a}\")"
   ]
  },
  {
   "cell_type": "markdown",
   "id": "dff93711-0442-42f4-9368-f21f30b37a8e",
   "metadata": {},
   "source": [
    "### 2D arrays"
   ]
  },
  {
   "cell_type": "code",
   "execution_count": 72,
   "id": "a7c44449-229e-4c33-a299-e6a9157328d6",
   "metadata": {},
   "outputs": [
    {
     "name": "stdout",
     "output_type": "stream",
     "text": [
      "M1 = [[ 1.  -1.   0. ]\n",
      " [ 0.5  0.   2. ]\n",
      " [-2.   3.  -0.5]], shape=(3, 3), type=float64\n"
     ]
    }
   ],
   "source": [
    "M1 = np.array([\n",
    "    [1, -1, 0],\n",
    "    [0.5, 0, 2],\n",
    "    [-2, 3, -0.5]\n",
    "])\n",
    "print_ndarray_info(M1, \"M1\")"
   ]
  },
  {
   "cell_type": "code",
   "execution_count": 73,
   "id": "d3ec1e67-209e-4d29-8908-38cf2553b652",
   "metadata": {},
   "outputs": [
    {
     "name": "stdout",
     "output_type": "stream",
     "text": [
      "1.0\n",
      "3.0\n"
     ]
    }
   ],
   "source": [
    "print(M1[0,0])\n",
    "print(M1[2,1])"
   ]
  },
  {
   "cell_type": "code",
   "execution_count": 74,
   "id": "7ab9fd95-b23c-483a-bd48-bfbfc374d4cc",
   "metadata": {},
   "outputs": [
    {
     "name": "stdout",
     "output_type": "stream",
     "text": [
      "[ 1. -1.  0.]\n"
     ]
    }
   ],
   "source": [
    "# first row\n",
    "print(M1[0])"
   ]
  },
  {
   "cell_type": "code",
   "execution_count": 75,
   "id": "9d917d3c-1aae-4df2-9152-e43fd5a2b182",
   "metadata": {},
   "outputs": [
    {
     "name": "stdout",
     "output_type": "stream",
     "text": [
      "[ 1.   0.5 -2. ]\n"
     ]
    }
   ],
   "source": [
    "# first column\n",
    "print(M1[:, 0])"
   ]
  },
  {
   "cell_type": "code",
   "execution_count": 76,
   "id": "0295cb7e-8db5-40b7-a0b8-5c0cab80c865",
   "metadata": {},
   "outputs": [
    {
     "name": "stdout",
     "output_type": "stream",
     "text": [
      "[[ 1.   0.5 -2. ]\n",
      " [-1.   0.   3. ]\n",
      " [ 0.   2.  -0.5]]\n"
     ]
    }
   ],
   "source": [
    "# transpose\n",
    "print(M1.T)"
   ]
  },
  {
   "cell_type": "code",
   "execution_count": 77,
   "id": "26c9fc22-c4c4-441b-b29b-c35466214950",
   "metadata": {},
   "outputs": [
    {
     "name": "stdout",
     "output_type": "stream",
     "text": [
      "[ 1.   0.5 -2. ] [ 1.   0.5 -2. ]\n"
     ]
    }
   ],
   "source": [
    "# first row of M1.T == first col of M1\n",
    "print(M1.T[0], M1[:, 0])"
   ]
  },
  {
   "cell_type": "code",
   "execution_count": 78,
   "id": "68aa1499-af45-491c-97c8-e925ef4a3ed9",
   "metadata": {},
   "outputs": [
    {
     "name": "stdout",
     "output_type": "stream",
     "text": [
      "[[ 1.  -1. ]\n",
      " [ 0.5  0. ]]\n"
     ]
    }
   ],
   "source": [
    "# upper-left block of M1\n",
    "print(M1[:2, :2])"
   ]
  },
  {
   "cell_type": "code",
   "execution_count": 79,
   "id": "de5eb043-3e96-461a-adc8-13a2ea08f609",
   "metadata": {},
   "outputs": [
    {
     "name": "stdout",
     "output_type": "stream",
     "text": [
      "v7=M1⋅v5 = [-1.   6.5  2.5], shape=(3,), type=float64\n"
     ]
    }
   ],
   "source": [
    "# Matrix-vector product (it's just another matrix-matrix product...)\n",
    "v7 = np.dot(M1, v5)\n",
    "print_ndarray_info(v7, \"v7=M1⋅v5\")"
   ]
  },
  {
   "cell_type": "code",
   "execution_count": 80,
   "id": "fccfdcdc-7dcf-495f-8813-8388cf518bc5",
   "metadata": {},
   "outputs": [
    {
     "data": {
      "text/plain": [
       "array([-4. ,  8. ,  2.5])"
      ]
     },
     "execution_count": 80,
     "metadata": {},
     "output_type": "execute_result"
    }
   ],
   "source": [
    "# The order of multiplication matters!\n",
    "np.dot(v5, M1)\n",
    "# (in this case numpy considers v5 as a row vector)"
   ]
  },
  {
   "cell_type": "code",
   "execution_count": 81,
   "id": "aec5059c-ad83-4f8e-81e2-57c848bad379",
   "metadata": {},
   "outputs": [
    {
     "name": "stdout",
     "output_type": "stream",
     "text": [
      "M4=M2⋅M3 = [[ 0  2]\n",
      " [ 1 -1]], shape=(2, 2), type=int64\n",
      "M5=M3⋅M2 = [[ 2  4]\n",
      " [-1 -3]], shape=(2, 2), type=int64\n"
     ]
    }
   ],
   "source": [
    "# Matrix-Matrix product (remember: it's not commutative!)\n",
    "M2 = np.array([[1, 2], [0, -1]])\n",
    "M3 = np.array([[2, 0], [-1, 1]])\n",
    "M4 = np.dot(M2, M3)\n",
    "M5 = np.dot(M3, M2)\n",
    "print_ndarray_info(M4, \"M4=M2⋅M3\")\n",
    "print_ndarray_info(M5, \"M5=M3⋅M2\")"
   ]
  },
  {
   "cell_type": "markdown",
   "id": "7d687f28-2180-4dcc-8202-d1c97bf704fa",
   "metadata": {},
   "source": [
    "### nD arrays"
   ]
  },
  {
   "cell_type": "code",
   "execution_count": 87,
   "id": "179db141-cc43-4dc0-afdb-c6c3a8a758ca",
   "metadata": {},
   "outputs": [
    {
     "name": "stdout",
     "output_type": "stream",
     "text": [
      "T = [[[ 2  1]\n",
      "  [ 4 -2]]\n",
      "\n",
      " [[ 0  1]\n",
      "  [-3  2]]\n",
      "\n",
      " [[ 2  5]\n",
      "  [-1  0]]], shape=(3, 2, 2), type=int64\n",
      "T0 = [[ 2  1]\n",
      " [ 4 -2]], shape=(2, 2), type=int64\n",
      "T1 = [[ 0  1]\n",
      " [-3  2]], shape=(2, 2), type=int64\n",
      "T2 = [[ 2  5]\n",
      " [-1  0]], shape=(2, 2), type=int64\n",
      "Ti0 = [[2 1]\n",
      " [0 1]\n",
      " [2 5]], shape=(3, 2), type=int64\n",
      "Ti1 = [[ 4 -2]\n",
      " [-3  2]\n",
      " [-1  0]], shape=(3, 2), type=int64\n"
     ]
    }
   ],
   "source": [
    "T = np.array([[[2, 1], [4, -2]], [[0, 1], [-3, 2]], [[2, 5], [-1, 0]]])\n",
    "print_ndarray_info(T, \"T\")\n",
    "print_ndarray_info(T[0], \"T0\")\n",
    "print_ndarray_info(T[1], \"T1\")\n",
    "print_ndarray_info(T[2], \"T2\")\n",
    "print_ndarray_info(T[:, 0], \"Ti0\")\n",
    "print_ndarray_info(T[:, 1], \"Ti1\")"
   ]
  },
  {
   "cell_type": "markdown",
   "id": "63689f7a-1ad1-4a4d-a976-b8250d0299a3",
   "metadata": {},
   "source": [
    "### Creating arrays using NumPy functions"
   ]
  },
  {
   "cell_type": "code",
   "execution_count": 89,
   "id": "d7f52360-884f-404e-b6fb-d424682cf4cd",
   "metadata": {},
   "outputs": [
    {
     "name": "stdout",
     "output_type": "stream",
     "text": [
      "xs = [0.   0.25 0.5  0.75 1.   1.25 1.5  1.75 2.   2.25 2.5  2.75 3.   3.25\n",
      " 3.5  3.75 4.   4.25 4.5  4.75 5.   5.25 5.5  5.75 6.   6.25 6.5  6.75\n",
      " 7.   7.25 7.5  7.75 8.   8.25 8.5  8.75 9.   9.25 9.5  9.75], shape=(40,), type=float64\n"
     ]
    }
   ],
   "source": [
    "xs = np.arange(0, 10, 0.25)\n",
    "print_ndarray_info(xs, \"xs\")"
   ]
  },
  {
   "cell_type": "code",
   "execution_count": 92,
   "id": "2dcf41db-1e05-42a5-bcc3-ab0da931d983",
   "metadata": {},
   "outputs": [
    {
     "name": "stdout",
     "output_type": "stream",
     "text": [
      "ys = [-5.  -4.5 -4.  -3.5 -3.  -2.5 -2.  -1.5 -1.  -0.5  0.   0.5  1.   1.5\n",
      "  2.   2.5  3.   3.5  4.   4.5  5. ], shape=(21,), type=float64\n"
     ]
    }
   ],
   "source": [
    "ys = np.linspace(-5, 5, 21)\n",
    "print_ndarray_info(ys, \"ys\")"
   ]
  },
  {
   "cell_type": "code",
   "execution_count": 95,
   "id": "d28476e5-ed53-49cc-a7f0-ee6b56404f19",
   "metadata": {},
   "outputs": [
    {
     "name": "stdout",
     "output_type": "stream",
     "text": [
      "A_ones = [[1. 1. 1. 1.]\n",
      " [1. 1. 1. 1.]\n",
      " [1. 1. 1. 1.]], shape=(3, 4), type=float64\n"
     ]
    }
   ],
   "source": [
    "A_ones = np.ones(shape=(3,4))\n",
    "print_ndarray_info(A_ones, \"A_ones\")"
   ]
  },
  {
   "cell_type": "code",
   "execution_count": 96,
   "id": "d0683327-365f-444d-b9a9-3b7e0ca92857",
   "metadata": {},
   "outputs": [
    {
     "name": "stdout",
     "output_type": "stream",
     "text": [
      "A_zeros = [0. 0. 0. 0. 0. 0. 0.], shape=(7,), type=float64\n"
     ]
    }
   ],
   "source": [
    "A_zeros = np.zeros(7)\n",
    "print_ndarray_info(A_zeros, \"A_zeros\")"
   ]
  },
  {
   "cell_type": "markdown",
   "id": "7bfded4a-cd53-451d-8a78-be431687d2df",
   "metadata": {},
   "source": [
    "### Reshaping arrays"
   ]
  },
  {
   "cell_type": "code",
   "execution_count": 104,
   "id": "2fecd799-b3e0-461e-b4d0-836ded58b3fd",
   "metadata": {},
   "outputs": [
    {
     "name": "stdout",
     "output_type": "stream",
     "text": [
      "a = [ 0  1  2  3  4  5  6  7  8  9 10 11], shape=(12,), type=int64\n"
     ]
    }
   ],
   "source": [
    "a = np.arange(12)\n",
    "print_ndarray_info(a, \"a\")"
   ]
  },
  {
   "cell_type": "code",
   "execution_count": 106,
   "id": "d4ee9758-131b-407e-a5b7-6d23a8011296",
   "metadata": {},
   "outputs": [
    {
     "name": "stdout",
     "output_type": "stream",
     "text": [
      "b = [[[ 0  1]\n",
      "  [ 2  3]]\n",
      "\n",
      " [[ 4  5]\n",
      "  [ 6  7]]\n",
      "\n",
      " [[ 8  9]\n",
      "  [10 11]]], shape=(3, 2, 2), type=int64\n"
     ]
    }
   ],
   "source": [
    "b = a.reshape((3, 2, 2))\n",
    "print_ndarray_info(b, \"b\")"
   ]
  },
  {
   "cell_type": "markdown",
   "id": "18b498a8-eae4-4b88-89e0-aaa42121242d",
   "metadata": {},
   "source": [
    "### Axes"
   ]
  },
  {
   "cell_type": "code",
   "execution_count": 111,
   "id": "bb812b85-c3d3-4516-a45a-5d57827e8369",
   "metadata": {},
   "outputs": [
    {
     "name": "stdout",
     "output_type": "stream",
     "text": [
      "21\n",
      "[5 7 9]\n",
      "[ 6 15]\n",
      "[2.5 3.5 4.5]\n"
     ]
    }
   ],
   "source": [
    "a = np.array([\n",
    "    [1, 2, 3],\n",
    "    [4, 5, 6]\n",
    "])\n",
    "print(np.sum(a))\n",
    "print(np.sum(a, axis=0))\n",
    "print(np.sum(a, axis=1))\n",
    "print(np.mean(a, axis=0))"
   ]
  },
  {
   "cell_type": "markdown",
   "id": "3937e36f-bfeb-4c3f-9071-93faad9bf8cc",
   "metadata": {},
   "source": [
    "### (pseudo-) Random number generators (RNGs)"
   ]
  },
  {
   "cell_type": "code",
   "execution_count": 115,
   "id": "f3d10fcb-6023-45d7-af6e-db1bab2a976a",
   "metadata": {},
   "outputs": [
    {
     "name": "stdout",
     "output_type": "stream",
     "text": [
      "[[0.62415627 0.01734254 0.27068995 0.54995491]\n",
      " [0.17576853 0.8452737  0.13878552 0.08060557]\n",
      " [0.40962789 0.02852044 0.45643262 0.76599196]]\n"
     ]
    }
   ],
   "source": [
    "r1 = np.random.rand(3, 4)\n",
    "print(r1)"
   ]
  },
  {
   "cell_type": "code",
   "execution_count": 157,
   "id": "4564834e-da9c-492d-b49b-e5fd3e13dfd7",
   "metadata": {},
   "outputs": [
    {
     "name": "stdout",
     "output_type": "stream",
     "text": [
      "r2=58\n",
      "r3=\n",
      "[[19  0 18  8  7]\n",
      " [-5  1  0 14  8]\n",
      " [-3  7 14 -2 14]\n",
      " [ 5  3 -3  9  4]\n",
      " [-1 12 12  0  5]]\n"
     ]
    }
   ],
   "source": [
    "r2 = np.random.randint(100)\n",
    "print(f\"r2={r2}\")\n",
    "r3 = np.random.randint(-5, 20, (5, 5))\n",
    "print(f\"r3=\\n{r3}\")"
   ]
  },
  {
   "cell_type": "code",
   "execution_count": 135,
   "id": "ee79e842-0d63-4a56-8b5f-7efb7f9158b5",
   "metadata": {},
   "outputs": [
    {
     "name": "stdout",
     "output_type": "stream",
     "text": [
      "[ 0.07153193  1.2601235  -6.46543856  9.40833197  2.37259638  7.13712046\n",
      "  4.29857853 -1.00530235 -8.76763131  6.48909988 -6.60727142  8.09992386\n",
      "  3.63479866  5.62391387  3.83273496 -5.79432232  1.32447636 -8.1465305\n",
      " -2.74309692  9.47493251  7.59046236  6.43862162 -1.87102204 -7.4167259\n",
      "  4.53225721 -5.96775789 -2.31731932 -1.70410324  6.69456247  1.08208599\n",
      " -0.17888327 -7.21074977 -5.26185452 -5.77435211  2.68766671  5.75892392\n",
      "  6.23414399  8.97898842 -2.55200429 -7.07505031  0.35038539 -8.203791\n",
      "  8.34724558  9.7990568   6.37769938  5.75216663 -7.45024843 -3.43179702\n",
      " -7.06163208  4.41302683  9.65239552 -4.34631916  4.1108513  -7.58003912\n",
      "  2.20827353  7.6933555   6.62674507 -5.39563291 -5.41269127  7.26437873\n",
      " -9.36888839  6.81967681 -8.75476535  9.46478473 -3.20234835 -5.03071961\n",
      "  5.04449233  5.28377658  1.88960336 -8.64262434 -1.0185998   9.85202652\n",
      " -0.19819943  0.43537345  8.32473957  5.22132193 -2.86726012  5.41568256\n",
      " -6.8690539  -2.09772118  6.38522833  7.24147984  7.82565547 -7.88184348\n",
      " -1.77451074  1.06423757  9.61723276  9.97325799 -6.88198921 -1.73732174\n",
      "  4.5685494  -2.1417386   9.82653192 -4.11183746 -6.61972529  1.67252041\n",
      "  5.73989685 -1.71338192 -5.22492833  7.10725819]\n"
     ]
    }
   ],
   "source": [
    "r_uni = np.random.uniform(-10, 10, 100000)\n",
    "print(r_uni[:100])"
   ]
  },
  {
   "cell_type": "code",
   "execution_count": 142,
   "id": "0cae9092-7b61-40aa-9337-015b425bd917",
   "metadata": {},
   "outputs": [
    {
     "data": {
      "text/plain": [
       "Text(0, 0.5, 'Frequency')"
      ]
     },
     "execution_count": 142,
     "metadata": {},
     "output_type": "execute_result"
    },
    {
     "data": {
      "image/png": "[encoded data removed]",
      "text/plain": [
       "<Figure size 640x480 with 1 Axes>"
      ]
     },
     "metadata": {},
     "output_type": "display_data"
    }
   ],
   "source": [
    "# This is just to show the distribution, we'll learn how to work with\n",
    "# matplotlib later...\n",
    "%matplotlib inline\n",
    "import matplotlib.pyplot as plt\n",
    "hist, bins = np.histogram(r_uni, bins=50, density=True)\n",
    "fig, ax = plt.subplots()\n",
    "ax.bar(bins[:-1], hist, width=0.2, color=\"#2b8cbeaa\")\n",
    "ax.set_title(\"Distribution of pseudo-random numbers using random.uniform\")\n",
    "ax.set_xlabel(\"x\")\n",
    "ax.set_ylabel(\"Frequency\")"
   ]
  },
  {
   "cell_type": "code",
   "execution_count": 152,
   "id": "58f8a2ff-8868-4800-99b2-0176b36e4ff0",
   "metadata": {},
   "outputs": [
    {
     "data": {
      "text/plain": [
       "Text(0, 0.5, 'Frequency')"
      ]
     },
     "execution_count": 152,
     "metadata": {},
     "output_type": "execute_result"
    },
    {
     "data": {
      "image/png": "[encoded data removed]",
      "text/plain": [
       "<Figure size 640x480 with 1 Axes>"
      ]
     },
     "metadata": {},
     "output_type": "display_data"
    }
   ],
   "source": [
    "# 1st param is the mean (μ), 2nd is the standard deviation (σ), 3rd is the number of numbers\n",
    "r_gauss = np.random.normal(0.0, 1.0, 1000000)\n",
    "\n",
    "hist, bins = np.histogram(r_gauss, bins=100, density=True)\n",
    "fig, ax = plt.subplots()\n",
    "ax.bar(bins[:-1], hist, width=0.05, color=\"#e34a33ff\")\n",
    "ax.set_title(\"Distribution of pseudo-random numbers using random.normal\")\n",
    "ax.set_xlabel(\"x\")\n",
    "ax.set_ylabel(\"Frequency\")"
   ]
  },
  {
   "cell_type": "markdown",
   "id": "7701c4ab-3e18-4793-8698-af1a0109fc45",
   "metadata": {},
   "source": [
    "### Working with mathematical functions"
   ]
  },
  {
   "cell_type": "markdown",
   "id": "fb6f914c-3604-49d1-ae4a-f8fbaf62c17c",
   "metadata": {},
   "source": [
    "## SciPy"
   ]
  },
  {
   "cell_type": "code",
   "execution_count": null,
   "id": "11d2c089-852b-4d34-99a8-f45d4a9aacfd",
   "metadata": {},
   "outputs": [],
   "source": []
  }
 ],
 "metadata": {
  "kernelspec": {
   "display_name": "Python 3 (ipykernel)",
   "language": "python",
   "name": "python3"
  },
  "language_info": {
   "codemirror_mode": {
    "name": "ipython",
    "version": 3
   },
   "file_extension": ".py",
   "mimetype": "text/x-python",
   "name": "python",
   "nbconvert_exporter": "python",
   "pygments_lexer": "ipython3",
   "version": "3.12.4"
  }
 },
 "nbformat": 4,
 "nbformat_minor": 5
}
