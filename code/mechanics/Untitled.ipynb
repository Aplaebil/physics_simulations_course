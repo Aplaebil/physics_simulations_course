{
 "cells": [
  {
   "cell_type": "code",
   "execution_count": null,
   "id": "5b751494-06a6-41ac-a14e-a1d3e4b9de5a",
   "metadata": {},
   "outputs": [],
   "source": []
  }
 ],
 "metadata": {
  "kernelspec": {
   "display_name": "",
   "name": ""
  },
  "language_info": {
   "name": ""
  }
 },
 "nbformat": 4,
 "nbformat_minor": 5
}
